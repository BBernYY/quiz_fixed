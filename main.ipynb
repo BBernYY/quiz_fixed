{
 "cells": [
  {
   "cell_type": "markdown",
   "metadata": {},
   "source": [
    "## Single question test"
   ]
  },
  {
   "cell_type": "code",
   "execution_count": 2,
   "metadata": {},
   "outputs": [
    {
     "data": {
      "text/plain": [
       "matrix([[1],\n",
       "        [0],\n",
       "        [0]])"
      ]
     },
     "execution_count": 2,
     "metadata": {},
     "output_type": "execute_result"
    }
   ],
   "source": [
    "import numpy as np\n",
    "\n",
    "answer_matrix : np.matrix = np.matrix([[0, 1, 0], [1, 0, 0], [0, 0, 1]])\n",
    "answer : np.matrix = np.matrix([[0], [1], [0]])\n",
    "result : np.matrix = answer_matrix * answer\n",
    "result"
   ]
  },
  {
   "cell_type": "code",
   "execution_count": 3,
   "metadata": {},
   "outputs": [
    {
     "data": {
      "text/plain": [
       "matrix([[1.],\n",
       "        [0.],\n",
       "        [0.]])"
      ]
     },
     "execution_count": 3,
     "metadata": {},
     "output_type": "execute_result"
    }
   ],
   "source": [
    "import numpy as np\n",
    "def compute_answers(answer_matrices : np.matrix, answers : np.matrix):\n",
    "    ans = np.matrix([[0.0] for _ in range(len(answers[0]))])\n",
    "    for i in range(len(answer_matrices)):\n",
    "        ans += answer_matrices[i] * answers[i]\n",
    "    ans *= 1/len(answer_matrices)\n",
    "    return ans\n",
    "compute_answers([answer_matrix], [answer])"
   ]
  },
  {
   "cell_type": "code",
   "execution_count": 4,
   "metadata": {},
   "outputs": [
    {
     "name": "stdout",
     "output_type": "stream",
     "text": [
      "rizz?\n",
      "\n",
      "A: yes\n",
      "B: no\n",
      "C: ohio\n"
     ]
    },
    {
     "data": {
      "text/plain": [
       "matrix([[1.],\n",
       "        [0.],\n",
       "        [0.]])"
      ]
     },
     "execution_count": 4,
     "metadata": {},
     "output_type": "execute_result"
    }
   ],
   "source": [
    "ALPHABET = list(\"ABCDEFGHIJKLMNOPQRSTUVWXYZ\")\n",
    "def ask_question(question, anslist):\n",
    "    print(question+\"\\n\")\n",
    "    for i in range(len(anslist)):\n",
    "        print(ALPHABET[i]+\": \"+anslist[i])\n",
    "    while True:\n",
    "        response = input()\n",
    "        if (response.upper() in ALPHABET and len(response) == 1):\n",
    "            break\n",
    "        elif response in anslist:\n",
    "            response = ALPHABET[anslist.index(response)]\n",
    "            break\n",
    "        else:\n",
    "            print(\"Incorrect answer given.\")\n",
    "    return np.matrix([[float(ALPHABET[i] in response)] for i in range(len(anslist))])\n",
    "ask_question(\"rizz?\", [\"yes\", \"no\", \"ohio\"])"
   ]
  },
  {
   "cell_type": "code",
   "execution_count": 5,
   "metadata": {},
   "outputs": [
    {
     "name": "stdout",
     "output_type": "stream",
     "text": [
      "rizz?\n",
      "\n",
      "A: yes\n",
      "B: no\n",
      "C: ohio\n",
      "rizz?\n",
      "\n",
      "A: yes\n",
      "B: no\n",
      "C: ohio\n",
      "rizz?\n",
      "\n",
      "A: yes\n",
      "B: no\n",
      "C: ohio\n",
      "rizz?\n",
      "\n",
      "A: yes\n",
      "B: no\n",
      "C: ohio\n",
      "rizz?\n",
      "\n",
      "A: yes\n",
      "B: no\n",
      "C: ohio\n"
     ]
    },
    {
     "data": {
      "text/plain": [
       "matrix([[0.4],\n",
       "        [0.2],\n",
       "        [0.2]])"
      ]
     },
     "execution_count": 5,
     "metadata": {},
     "output_type": "execute_result"
    }
   ],
   "source": [
    "resp, resp_mat = [], []\n",
    "for i in range(5):\n",
    "    resp.append(ask_question(\"rizz?\", [\"yes\", \"no\", \"ohio\"]))\n",
    "    resp_mat.append(np.identity(3))\n",
    "compute_answers(resp_mat, resp)"
   ]
  },
  {
   "cell_type": "code",
   "execution_count": 185,
   "metadata": {},
   "outputs": [
    {
     "data": {
      "text/plain": [
       "0.0"
      ]
     },
     "execution_count": 185,
     "metadata": {},
     "output_type": "execute_result"
    }
   ],
   "source": [
    "expected_vector = np.matrix([[1.0], [0.0], [0.0]])\n",
    "resulted_vector = np.matrix([[0.0], [1.0], [0.0]])\n",
    "current_matrix = np.matrix(np.zeros(shape=(3,3)))\n",
    "operations = 1\n",
    "current_matrix.sum()\n"
   ]
  },
  {
   "cell_type": "code",
   "execution_count": 715,
   "metadata": {},
   "outputs": [
    {
     "data": {
      "text/plain": [
       "matrix([[-0.12476128, -0.12476128, -0.12476128],\n",
       "        [ 0.99809024, -0.12476128, -0.12476128],\n",
       "        [-0.12476128, -0.12476128, -0.12476128]])"
      ]
     },
     "execution_count": 715,
     "metadata": {},
     "output_type": "execute_result"
    }
   ],
   "source": [
    "def adjust(mat : np.matrix, vectors: list[(np.matrix, np.matrix)]):\n",
    "    global operations\n",
    "    for i in range(len(vectors)):\n",
    "        resulted_vector, expected_vector = vectors[i]\n",
    "        inv = np.transpose(expected_vector)\n",
    "        a = np.vstack([inv, inv, inv])\n",
    "        b = np.hstack([resulted_vector, resulted_vector, resulted_vector])\n",
    "        free_slots = 1 / (3 * 3 - 1)\n",
    "        delta_matrix = (b * a / (3))*(1 + free_slots) - free_slots\n",
    "        current_matrix = (mat*operations + delta_matrix)/(operations+1)\n",
    "        operations += 1\n",
    "    return current_matrix\n",
    "current_matrix = adjust(current_matrix, [(resulted_vector, expected_vector) for _ in range(1000)])\n",
    "current_matrix"
   ]
  }
 ],
 "metadata": {
  "kernelspec": {
   "display_name": "Python 3",
   "language": "python",
   "name": "python3"
  },
  "language_info": {
   "codemirror_mode": {
    "name": "ipython",
    "version": 3
   },
   "file_extension": ".py",
   "mimetype": "text/x-python",
   "name": "python",
   "nbconvert_exporter": "python",
   "pygments_lexer": "ipython3",
   "version": "3.11.9"
  }
 },
 "nbformat": 4,
 "nbformat_minor": 2
}
